{
 "cells": [
  {
   "cell_type": "markdown",
   "metadata": {},
   "source": [
    "# Self-Driving Car Engineer Nanodegree\n",
    "\n",
    "## Deep Learning\n",
    "\n",
    "## Project: Build a Traffic Sign Recognition Classifier\n",
    "\n",
    "In this notebook, a template is provided for you to implement your functionality in stages which is required to successfully complete this project. If additional code is required that cannot be included in the notebook, be sure that the Python code is successfully imported and included in your submission, if necessary. Sections that begin with **'Implementation'** in the header indicate where you should begin your implementation for your project. Note that some sections of implementation are optional, and will be marked with **'Optional'** in the header.\n",
    "\n",
    "In addition to implementing code, there will be questions that you must answer which relate to the project and your implementation. Each section where you will answer a question is preceded by a **'Question'** header. Carefully read each question and provide thorough answers in the following text boxes that begin with **'Answer:'**. Your project submission will be evaluated based on your answers to each of the questions and the implementation you provide.\n",
    "\n",
    ">**Note:** Code and Markdown cells can be executed using the **Shift + Enter** keyboard shortcut. In addition, Markdown cells can be edited by typically double-clicking the cell to enter edit mode."
   ]
  },
  {
   "cell_type": "code",
   "execution_count": 1,
   "metadata": {
    "collapsed": false
   },
   "outputs": [],
   "source": [
    "import pickle, os, collections\n",
    "import numpy as np\n",
    "import pandas\n",
    "import zipfile\n",
    "from IPython.core.debugger import Tracer\n",
    "import matplotlib.pyplot as plt\n",
    "import random\n",
    "from sklearn.utils import shuffle\n",
    "from skimage import exposure\n",
    "from scipy.ndimage import gaussian_filter\n",
    "from skimage import img_as_float\n",
    "from skimage.morphology import reconstruction\n",
    "from scipy.misc import imresize, imread, imsave\n",
    "import cv2\n",
    "\n",
    "import tensorflow as tf\n",
    "from tensorflow.contrib.layers import flatten\n",
    "\n",
    "# Visualizations will be shown in the notebook.\n",
    "%matplotlib inline"
   ]
  },
  {
   "cell_type": "markdown",
   "metadata": {},
   "source": [
    "---\n",
    "## Step 0: Load The Data"
   ]
  },
  {
   "cell_type": "code",
   "execution_count": 2,
   "metadata": {
    "collapsed": false
   },
   "outputs": [],
   "source": [
    "# TODO: Fill this in based on where you saved the training and testing data\n",
    "cwd = os.getcwd()\n",
    "data_dir = '/traffic-signs-data'\n",
    "training_zipfile = cwd + data_dir + '/train.zip'\n",
    "\n",
    "if 'train.p' not in os.listdir(cwd+data_dir):\n",
    "    with zipfile.ZipFile(training_zipfile) as z:\n",
    "        z.extract('train.p', cwd+data_dir)\n",
    "    \n",
    "training_file = cwd + data_dir + '/train.p'\n",
    "testing_file = cwd + data_dir + '/test.p'\n",
    "\n",
    "with open(training_file, mode='rb') as f:\n",
    "    train = pickle.load(f)\n",
    "with open(testing_file, mode='rb') as f:\n",
    "    test = pickle.load(f)\n",
    "    \n",
    "X_train_raw, y_train_raw = train['features'], train['labels']\n",
    "X_test, y_test = test['features'], test['labels']\n",
    "X_sizes = train['sizes']\n",
    "X_coords = train['coords']"
   ]
  },
  {
   "cell_type": "markdown",
   "metadata": {},
   "source": [
    "---\n",
    "\n",
    "## Step 1: Dataset Summary & Exploration\n",
    "\n",
    "The pickled data is a dictionary with 4 key/value pairs:\n",
    "\n",
    "- `'features'` is a 4D array containing raw pixel data of the traffic sign images, (num examples, width, height, channels).\n",
    "- `'labels'` is a 2D array containing the label/class id of the traffic sign. The file `signnames.csv` contains id -> name mappings for each id.\n",
    "- `'sizes'` is a list containing tuples, (width, height) representing the the original width and height the image.\n",
    "- `'coords'` is a list containing tuples, (x1, y1, x2, y2) representing coordinates of a bounding box around the sign in the image. **THESE COORDINATES ASSUME THE ORIGINAL IMAGE. THE PICKLED DATA CONTAINS RESIZED VERSIONS (32 by 32) OF THESE IMAGES**\n",
    "\n",
    "Complete the basic data summary below."
   ]
  },
  {
   "cell_type": "code",
   "execution_count": 3,
   "metadata": {
    "collapsed": false
   },
   "outputs": [
    {
     "name": "stdout",
     "output_type": "stream",
     "text": [
      "Number of training examples = 39209\n",
      "Number of testing examples = 12630\n",
      "Image data shape = (32, 32, 3)\n",
      "Number of classes = 43\n",
      "Sizes data shape = (39209, 2)\n",
      "Coordination data shap = (39209, 4)\n"
     ]
    }
   ],
   "source": [
    "### Replace each question mark with the appropriate value.\n",
    "\n",
    "# TODO: Number of training examples\n",
    "n_train = len(X_train_raw)\n",
    "\n",
    "# TODO: Number of testing examples.\n",
    "n_test = len(X_test)\n",
    "\n",
    "# TODO: What's the shape of an traffic sign image?\n",
    "image_shape = X_train_raw[0].shape\n",
    "\n",
    "# TODO: How many unique classes/labels there are in the dataset.\n",
    "n_classes = len(np.unique(y_train_raw))\n",
    "\n",
    "sizes_shape = X_sizes.shape\n",
    "coords_shape = X_coords.shape\n",
    "\n",
    "print(\"Number of training examples =\", n_train)\n",
    "print(\"Number of testing examples =\", n_test)\n",
    "print(\"Image data shape =\", image_shape)\n",
    "print(\"Number of classes =\", n_classes)\n",
    "\n",
    "print(\"Sizes data shape =\", sizes_shape)\n",
    "print(\"Coordination data shap =\", coords_shape)\n"
   ]
  },
  {
   "cell_type": "markdown",
   "metadata": {},
   "source": [
    "Visualize the German Traffic Signs Dataset using the pickled file(s). This is open ended, suggestions include: plotting traffic sign images, plotting the count of each sign, etc.\n",
    "\n",
    "The [Matplotlib](http://matplotlib.org/) [examples](http://matplotlib.org/examples/index.html) and [gallery](http://matplotlib.org/gallery.html) pages are a great resource for doing visualizations in Python.\n",
    "\n",
    "**NOTE:** It's recommended you start with something simple first. If you wish to do more, come back to it after you've completed the rest of the sections."
   ]
  },
  {
   "cell_type": "code",
   "execution_count": 4,
   "metadata": {
    "collapsed": false
   },
   "outputs": [
    {
     "name": "stdout",
     "output_type": "stream",
     "text": [
      "Training data:  Keep right\n",
      "Test data:  Road work\n"
     ]
    },
    {
     "data": {
      "image/png": "[encoded data removed]",
      "text/plain": [
       "<matplotlib.figure.Figure at 0x7ff2291209b0>"
      ]
     },
     "metadata": {},
     "output_type": "display_data"
    },
    {
     "data": {
      "image/png": "[encoded data removed]",
      "text/plain": [
       "<matplotlib.figure.Figure at 0x7ff229094cf8>"
      ]
     },
     "metadata": {},
     "output_type": "display_data"
    }
   ],
   "source": [
    "### Data exploration visualization goes here.\n",
    "### Feel free to use as many code cells as needed.\n",
    "\n",
    "# Get Sign Names from CSV-Table\n",
    "csv_file = 'signnames.csv'\n",
    "col_names = ['ClassId', 'SignName']\n",
    "data = pandas.read_csv(csv_file, names=col_names)\n",
    "signnames = data.SignName.tolist()\n",
    "signnames = signnames[1:len(signnames)]\n",
    "\n",
    "# Get random sign\n",
    "index = random.randint(0, len(X_train_raw))\n",
    "image = X_train_raw[index].squeeze()\n",
    "\n",
    "index1 = random.randint(0, len(X_test))\n",
    "image1 = X_test[index1].squeeze()\n",
    "\n",
    "# Plot\n",
    "plt.figure(figsize=(1,1))\n",
    "plt.imshow(image)\n",
    "print(\"Training data: \", signnames[y_train_raw[index]])\n",
    "\n",
    "plt.figure(figsize=(1,1))\n",
    "plt.imshow(image1)\n",
    "print(\"Test data: \", signnames[y_test[index1]])\n",
    "\n"
   ]
  },
  {
   "cell_type": "code",
   "execution_count": 5,
   "metadata": {
    "collapsed": false
   },
   "outputs": [
    {
     "data": {
      "text/plain": [
       "<matplotlib.legend.Legend at 0x7ff228e09c50>"
      ]
     },
     "execution_count": 5,
     "metadata": {},
     "output_type": "execute_result"
    },
    {
     "data": {
      "image/png": "[encoded data removed]",
      "text/plain": [
       "<matplotlib.figure.Figure at 0x7ff28862cf60>"
      ]
     },
     "metadata": {},
     "output_type": "display_data"
    }
   ],
   "source": [
    "# Bar Plot\n",
    "ind = np.arange(n_classes)  # the x locations for the groups\n",
    "bar_width = 0.75       # the width of the bars\n",
    "\n",
    "n_types_train = collections.Counter(y_train_raw).values()\n",
    "n_types_test = collections.Counter(y_test).values()\n",
    "\n",
    "fig, ax = plt.subplots(figsize=(15, 6))\n",
    "\n",
    "rects1 = ax.bar(ind, n_types_train, bar_width, color='b')\n",
    "rects2 = ax.bar(ind, n_types_test, bar_width, color='g')\n",
    "\n",
    "ax.set_xticks(ind + bar_width / 2)\n",
    "ax.set_xticklabels(signnames, rotation='vertical')\n",
    "\n",
    "ax.legend((rects1[0], rects2[0]), ('training_set', 'test_set'))"
   ]
  },
  {
   "cell_type": "markdown",
   "metadata": {},
   "source": [
    "----\n",
    "\n",
    "## Step 2: Design and Test a Model Architecture\n",
    "\n",
    "Design and implement a deep learning model that learns to recognize traffic signs. Train and test your model on the [German Traffic Sign Dataset](http://benchmark.ini.rub.de/?section=gtsrb&subsection=dataset).\n",
    "\n",
    "There are various aspects to consider when thinking about this problem:\n",
    "\n",
    "- Neural network architecture\n",
    "- Play around preprocessing techniques (normalization, rgb to grayscale, etc)\n",
    "- Number of examples per label (some have more than others).\n",
    "- Generate fake data.\n",
    "\n",
    "Here is an example of a [published baseline model on this problem](http://yann.lecun.com/exdb/publis/pdf/sermanet-ijcnn-11.pdf). It's not required to be familiar with the approach used in the paper but, it's good practice to try to read papers like these.\n",
    "\n",
    "**NOTE:** The LeNet-5 implementation shown in the [classroom](https://classroom.udacity.com/nanodegrees/nd013/parts/fbf77062-5703-404e-b60c-95b78b2f3f9e/modules/6df7ae49-c61c-4bb2-a23e-6527e69209ec/lessons/601ae704-1035-4287-8b11-e2c2716217ad/concepts/d4aca031-508f-4e0b-b493-e7b706120f81) at the end of the CNN lesson is a solid starting point. You'll have to change the number of classes and possibly the preprocessing, but aside from that it's plug and play!"
   ]
  },
  {
   "cell_type": "markdown",
   "metadata": {},
   "source": [
    "### Implementation\n",
    "\n",
    "Use the code cell (or multiple code cells, if necessary) to implement the first step of your project. Once you have completed your implementation and are satisfied with the results, be sure to thoroughly answer the questions that follow."
   ]
  },
  {
   "cell_type": "code",
   "execution_count": 6,
   "metadata": {
    "collapsed": false
   },
   "outputs": [],
   "source": [
    "### Preprocess the data here.\n",
    "### Feel free to use as many code cells as needed.\n",
    "def shuffle_data(X_train_raw, X_sizes, X_coords, y_train_raw):\n",
    "    X_train_raw, X_sizes, X_coords, y_train_raw = shuffle(X_train_raw, X_sizes, X_coords, y_train_raw)\n",
    "    return X_train_raw, X_sizes, X_coords, y_train_raw\n"
   ]
  },
  {
   "cell_type": "markdown",
   "metadata": {},
   "source": [
    "### Question 1 \n",
    "\n",
    "_Describe how you preprocessed the data. Why did you choose that technique?_"
   ]
  },
  {
   "cell_type": "markdown",
   "metadata": {},
   "source": [
    "**Answer:**\n",
    "\n",
    "*Randomize the data set before separate them to training and validation sets. The training would be only successful if the data set is random enough since the neural network should not be overfitted to recognize specific data.*\n",
    "\n"
   ]
  },
  {
   "cell_type": "code",
   "execution_count": 7,
   "metadata": {
    "collapsed": false
   },
   "outputs": [
    {
     "name": "stderr",
     "output_type": "stream",
     "text": [
      "/home/chili/anaconda3/lib/python3.5/site-packages/skimage/util/dtype.py:110: UserWarning: Possible precision loss when converting from float64 to uint16\n",
      "  \"%s to %s\" % (dtypeobj_in, dtypeobj))\n"
     ]
    },
    {
     "name": "stdout",
     "output_type": "stream",
     "text": [
      "Training data 25916: General caution\n"
     ]
    },
    {
     "data": {
      "image/png": "[encoded data removed]",
      "text/plain": [
       "<matplotlib.figure.Figure at 0x7ff2290e3320>"
      ]
     },
     "metadata": {},
     "output_type": "display_data"
    },
    {
     "data": {
      "image/png": "[encoded data removed]",
      "text/plain": [
       "<matplotlib.figure.Figure at 0x7ff2290e3048>"
      ]
     },
     "metadata": {},
     "output_type": "display_data"
    }
   ],
   "source": [
    "### Generate data additional data (OPTIONAL!)\n",
    "### and split the data into training/validation/testing sets here.\n",
    "### Feel free to use as many code cells as needed.\n",
    "def separate_train_val_test(X_train_raw, X_sizes, X_coords, y_train_raw):\n",
    "    X_train_raw, X_sizes, X_coords, y_train_raw = shuffle_data(X_train_raw, X_sizes, X_coords, y_train_raw)\n",
    "    \n",
    "    n_validation = int(np.ceil(0.2*n_train))\n",
    "    #print(n_validation, n_train)\n",
    "\n",
    "    X_validation = X_train_raw[0:n_validation]\n",
    "    X_train = X_train_raw[n_validation:n_train]\n",
    "    y_validation = y_train_raw[0:n_validation]\n",
    "    y_train = y_train_raw[n_validation:n_train]\n",
    "\n",
    "    #print(X_validation.shape, X_train.shape, y_validation.shape, y_train.shape)\n",
    "    \n",
    "    return X_train, y_train, X_validation, y_validation\n",
    "\n",
    "\n",
    "# Optional: preprocess image to increase contrast on images\n",
    "def preprocess_image(image, opt='gray'):\n",
    "    \n",
    "    if opt == 'gray':\n",
    "        \n",
    "        # Apply localized histogram equalization  \n",
    "        gray = 0.299 * image[:, :, 0] + 0.587 * image[:, :, 1] + 0.114 * image[:, :, 2]\n",
    "        gray = (gray / 255.).astype(np.float64)\n",
    "        out = (exposure.equalize_adapthist(gray)*255.).astype(np.uint16)\n",
    "        \n",
    "    elif opt == 'color':\n",
    "\n",
    "        img_yuv = cv2.cvtColor(image, cv2.COLOR_BGR2YCrCb)\n",
    "\n",
    "        # equalize the histogram of the Y channel\n",
    "        img_yuv[:,:,0] = cv2.equalizeHist(img_yuv[:,:,0])\n",
    "\n",
    "        # convert the YUV image back to RGB format\n",
    "        out = cv2.cvtColor(img_yuv, cv2.COLOR_YCrCb2BGR)\n",
    "    \n",
    "    elif opt == 'combined':\n",
    "        # Apply localized histogram equalization  \n",
    "        gray = 0.299 * image[:, :, 0] + 0.587 * image[:, :, 1] + 0.114 * image[:, :, 2]\n",
    "        gray = (gray / 255.).astype(np.float64)\n",
    "        gray_out = (exposure.equalize_adapthist(gray)*255.).astype(np.uint16)\n",
    "        gray_out = gray_out.reshape(gray_out.shape[0], gray_out.shape[1], 1)\n",
    "        \n",
    "        img_yuv = cv2.cvtColor(image, cv2.COLOR_BGR2YCrCb)\n",
    "\n",
    "        # equalize the histogram of the Y channel\n",
    "        img_yuv[:,:,0] = cv2.equalizeHist(img_yuv[:,:,0])\n",
    "\n",
    "        # convert the YUV image back to RGB format\n",
    "        color_out = cv2.cvtColor(img_yuv, cv2.COLOR_YCrCb2BGR)\n",
    "        \n",
    "        out = np.concatenate((gray_out, color_out), axis = 2)\n",
    "        \n",
    "        out = np.concatenate((out[:,:,0:2], out[:,:,3].reshape(32,32,1) ), axis=2)\n",
    "\n",
    "    return out\n",
    "\n",
    "index = random.randint(0, len(X_train_raw))\n",
    "    \n",
    "output = preprocess_image(X_train_raw[index], opt='combined')\n",
    "\n",
    "\n",
    "# Plot\n",
    "plt.figure(figsize=(1,1))\n",
    "plt.imshow(output, cmap='gray')\n",
    "plt.figure(figsize = (1,1))\n",
    "plt.imshow(X_train_raw[index])\n",
    "print(\"Training data \" + str(index) + ': ' + signnames[y_train_raw[index]])\n"
   ]
  },
  {
   "cell_type": "code",
   "execution_count": 8,
   "metadata": {
    "collapsed": false
   },
   "outputs": [],
   "source": [
    "# Print iterations progress\n",
    "def printProgressBar (iteration, total, prefix = '', suffix = '', decimals = 1, length = 100, fill = '█'):\n",
    "    \"\"\"\n",
    "    Call in a loop to create terminal progress bar\n",
    "    @params:\n",
    "        iteration   - Required  : current iteration (Int)\n",
    "        total       - Required  : total iterations (Int)\n",
    "        prefix      - Optional  : prefix string (Str)\n",
    "        suffix      - Optional  : suffix string (Str)\n",
    "        decimals    - Optional  : positive number of decimals in percent complete (Int)\n",
    "        length      - Optional  : character length of bar (Int)\n",
    "        fill        - Optional  : bar fill character (Str)\n",
    "    \"\"\"\n",
    "    percent = (\"{0:.\" + str(decimals) + \"f}\").format(100 * (iteration / float(total)))\n",
    "    filledLength = int(length * iteration // total)\n",
    "    bar = fill * filledLength + '-' * (length - filledLength)\n",
    "    print('\\r%s |%s| %s%% %s' % (prefix, bar, percent, suffix), end = '\\r')\n",
    "    # Print New Line on Complete\n",
    "    if iteration == total: \n",
    "        print()"
   ]
  },
  {
   "cell_type": "code",
   "execution_count": 9,
   "metadata": {
    "collapsed": false
   },
   "outputs": [
    {
     "name": "stderr",
     "output_type": "stream",
     "text": [
      "/home/chili/anaconda3/lib/python3.5/site-packages/skimage/util/dtype.py:110: UserWarning: Possible precision loss when converting from float64 to uint16\n",
      "  \"%s to %s\" % (dtypeobj_in, dtypeobj))\n"
     ]
    },
    {
     "name": "stdout",
     "output_type": "stream",
     "text": [
      "Progress: |███████████████████████████████████████████████████████████████████████████████████████████████████-| 100.0% Complete\r"
     ]
    }
   ],
   "source": [
    "\n",
    "\n",
    "X_train_processed = np.zeros((X_train_raw.shape[0], X_train_raw.shape[1], X_train_raw.shape[2], 3))\n",
    "X_test_processed = np.zeros((X_test.shape[0], X_test.shape[1], X_test.shape[2], 3))\n",
    "for i in range(X_train_raw.shape[0]):\n",
    "    X_train_processed[i] = preprocess_image(X_train_raw[i], opt='combined')\n",
    "    printProgressBar(i, X_train_raw.shape[0], prefix = 'Progress:', suffix = 'Complete', length = 100)\n",
    "    \n",
    "for i in range(X_test.shape[0]):\n",
    "    X_test_processed[i] = preprocess_image(X_test[i], opt='combined')\n",
    "    printProgressBar(i, X_test.shape[0], prefix = 'Progress:', suffix = 'Complete', length = 100)\n",
    "    \n",
    "#X_train_processed = X_train_processed.reshape((X_train_raw.shape[0], X_train_raw.shape[1], X_train_raw.shape[2],1))\n",
    "#X_test_processed = X_test_processed.reshape((X_test.shape[0], X_test.shape[1], X_test.shape[2],1))\n"
   ]
  },
  {
   "cell_type": "code",
   "execution_count": 8,
   "metadata": {
    "collapsed": false
   },
   "outputs": [
    {
     "data": {
      "text/plain": [
       "(39209, 32, 32, 3)"
      ]
     },
     "execution_count": 8,
     "metadata": {},
     "output_type": "execute_result"
    }
   ],
   "source": [
    "X_train_raw.shape\n",
    "#X_train_processed.shape\n",
    "\n",
    "#pickle.dump( X_train_processed, open( \"X_train_processed.p\", \"wb\" ) )\n",
    "#pickle.dump( X_test_processed, open( \"X_test_processed.p\", \"wb\" ) )\n",
    "\n",
    "with open('X_train_processed.p', mode='rb') as f:\n",
    "    X_train_processed = pickle.load(f)\n",
    "with open('X_test_processed.p', mode='rb') as f:\n",
    "    X_test_processed = pickle.load(f)\n",
    "    \n",
    "X_train_processed.shape"
   ]
  },
  {
   "cell_type": "markdown",
   "metadata": {},
   "source": [
    "### Question 2\n",
    "\n",
    "_Describe how you set up the training, validation and testing data for your model. **Optional**: If you generated additional data, how did you generate the data? Why did you generate the data? What are the differences in the new dataset (with generated data) from the original dataset?_"
   ]
  },
  {
   "cell_type": "markdown",
   "metadata": {},
   "source": [
    "**Answer:**\n",
    "*testing data is already separated in test.p so I didn't separated from training data additionally. For the training, I separated training data to training and validation data in a ratio of 80:20*"
   ]
  },
  {
   "cell_type": "code",
   "execution_count": 9,
   "metadata": {
    "collapsed": false
   },
   "outputs": [],
   "source": [
    "### Define your architecture here.\n",
    "### Feel free to use as many code cells as needed.\n",
    "\n",
    "EPOCHS = 200\n",
    "BATCH_SIZE = 48\n",
    "\n",
    "learning_rate = 0.00005\n",
    "\n",
    "def conv2d(inputs, weights, bias, stride=2, padding='VALID'):\n",
    "    strides=[1, stride, stride, 1]\n",
    "    conv = tf.nn.conv2d(inputs, weights, strides, padding)\n",
    "    out = tf.nn.bias_add(conv, bias)\n",
    "    return out\n",
    "\n",
    "def activation(features, opt='relu'):\n",
    "    if opt == 'relu':\n",
    "        return tf.nn.relu(features)\n",
    "    elif opt == 'sigmoid':\n",
    "        return tf.nn.sigmoid(features)\n",
    "    elif opt == 'tanh':\n",
    "        return tf.nn.tanh(features)\n",
    "        \n",
    "def maxpool2d(inputs, ksize, stride, padding='VALID'):\n",
    "    \n",
    "    ksizes=[1, ksize, ksize, 1]\n",
    "    strides=[1, stride, stride, 1]\n",
    "    \n",
    "    out = tf.nn.max_pool(inputs, ksizes, strides, padding)\n",
    "    return out\n",
    "\n",
    "def LeNet(x, dropout_keep_prob):\n",
    "    mu = 0\n",
    "    sigma = 0.01\n",
    "\n",
    "    # Layer 1: Convolutional. Input = 32x32x3. Output = 28x28x32.\n",
    "    with tf.name_scope(\"Layer_1\"):\n",
    "        layer1_weights = tf.Variable(tf.truncated_normal(shape=(5, 5, 3, 32), mean=mu, stddev=sigma), \\\n",
    "                                    name = \"layer1_weights\")\n",
    "        l1_w = tf.summary.histogram('layer1_weights', layer1_weights)\n",
    "        layer1_bias = tf.Variable(tf.zeros(32), name =\"layer1_bias\")\n",
    "        l1_b = tf.summary.histogram('layer1_bias', layer1_bias)\n",
    "        layer1 = conv2d(x, layer1_weights, layer1_bias, stride=1)\n",
    "\n",
    "        # Activation.\n",
    "        layer1 = activation(layer1, opt='relu')\n",
    "\n",
    "        # Pooling. Input = 28x28x32. Output = 14x14x32.\n",
    "        pool1 = maxpool2d(layer1, 2, 2)\n",
    "\n",
    "    # Layer 2: Convolutional. Input = 14x14x32. Output = 10x10x64.\n",
    "    with tf.name_scope(\"Layer_2\"):\n",
    "        layer2_weights = tf.Variable(tf.truncated_normal(shape=(5, 5, 32, 64), mean=mu, stddev=sigma), \\\n",
    "                                    name = \"layer2_weights\")\n",
    "        l2_w = tf.summary.histogram('layer2_weights', layer2_weights)\n",
    "        layer2_bias = tf.Variable(tf.zeros(64), name = \"layer2_bias\")\n",
    "        l2_b = tf.summary.histogram('layer2_bias', layer2_bias)\n",
    "        layer2 = conv2d(pool1, layer2_weights, layer2_bias, stride=1)\n",
    "\n",
    "        # Activation.2\n",
    "        layer2 = activation(layer2, opt='relu')\n",
    "\n",
    "        # Pooling. Input = 10x10x64. Output = 5x5x64.\n",
    "        pool2 = maxpool2d(layer2, 2, 2)\n",
    "        \n",
    "        # Flatten. Input = 5x5x64. Output = 1600.\n",
    "        fc0 = flatten(pool2)\n",
    "\n",
    "    # Layer 3: Fully Connected. Input = 1600. Output = 800.\n",
    "    with tf.name_scope(\"Layer_3\"):\n",
    "        fc1_weights = tf.Variable(tf.truncated_normal(shape=(1600, 800), mean=mu, stddev=sigma))\n",
    "        l3_w = tf.summary.histogram('fc1_weights', fc1_weights)\n",
    "        fc1_bias = tf.Variable(tf.zeros(800))\n",
    "        l3_b = tf.summary.histogram('fc1_bias', fc1_bias)\n",
    "        fc1 = tf.matmul(fc0, fc1_weights) + fc1_bias\n",
    "\n",
    "        # Activation.\n",
    "        #fc1 = activation(fc1, opt='relu')\n",
    "\n",
    "        fc1_drop = tf.nn.dropout(fc1, dropout_keep_prob+0.1)\n",
    "\n",
    "    # Layer 4: Fully Connected. Input = 800. Output = 256.\n",
    "    with tf.name_scope(\"Layer_4\"):\n",
    "        fc2_weights = tf.Variable(tf.truncated_normal(shape=(800, 256), mean=mu, stddev=sigma))\n",
    "        l4_w = tf.summary.histogram('fc2_weights', fc2_weights)\n",
    "        fc2_bias = tf.Variable(tf.zeros(256))\n",
    "        l4_b = tf.summary.histogram('fc2_bias', fc2_bias)\n",
    "        fc2 = tf.matmul(fc1_drop, fc2_weights) + fc2_bias\n",
    "\n",
    "        # Activation.\n",
    "        #fc2 = activation(fc2, opt='relu')\n",
    "\n",
    "        fc2_drop = tf.nn.dropout(fc2, dropout_keep_prob)\n",
    "\n",
    "    # Layer 5: Fully Connected. Input = 256. Output = 43.\n",
    "    with tf.name_scope(\"Layer_5\"):\n",
    "        fc3_weights = tf.Variable(tf.truncated_normal(shape=(256, 43), mean=mu, stddev=sigma))\n",
    "        l5_w = tf.summary.histogram('fc3_weights', fc3_weights)\n",
    "        fc3_bias = tf.Variable(tf.zeros(43))\n",
    "        l5_b = tf.summary.histogram('fc3_bias', fc3_bias)\n",
    "        logits = tf.matmul(fc2_drop, fc3_weights) + fc3_bias\n",
    "        \n",
    "    summaries = tf.summary.merge([l1_w, l1_b, l2_w, l2_b, l3_w, l3_b, l4_w, l4_b, l5_w, l5_b])\n",
    "\n",
    "    return logits, layer1_weights, layer1_bias, layer2_weights, layer2_bias, summaries"
   ]
  },
  {
   "cell_type": "markdown",
   "metadata": {},
   "source": [
    "### Question 3\n",
    "\n",
    "_What does your final architecture look like? (Type of model, layers, sizes, connectivity, etc.)  For reference on how to build a deep neural network using TensorFlow, see [Deep Neural Network in TensorFlow\n",
    "](https://classroom.udacity.com/nanodegrees/nd013/parts/fbf77062-5703-404e-b60c-95b78b2f3f9e/modules/6df7ae49-c61c-4bb2-a23e-6527e69209ec/lessons/b516a270-8600-4f93-a0a3-20dfeabe5da6/concepts/83a3a2a2-a9bd-4b7b-95b0-eb924ab14432) from the classroom._\n"
   ]
  },
  {
   "cell_type": "markdown",
   "metadata": {},
   "source": [
    "**Answer:**\n",
    "*My final architecture is a LeNet-model with L2-regulization and dropouts in hidden-layers: *\n",
    "- *input (32x32x3)*\n",
    "- *convolutional layer with L2-regulization (filter: 5x5x3, stride: 1 --> 28x28x32)*\n",
    "- *relu*\n",
    "- *max-pooling (kernel: 2x2, stride: 2 --> 14x14x32)*\n",
    "- *convolutional layer with L2-regulization (filter: 5x5x32, stride: 1 --> 10x10x64)*\n",
    "- *relu*\n",
    "- *max-pooling (kernel: 2x2, stride:2 --> 5x5x64)*\n",
    "- *flatten (1600 nodes)*\n",
    "- *fully connected layer with dropout (1600 --> 800)*\n",
    "- *fully connected layer with dropout (800 --> 256)*\n",
    "- *output (256--> 43)*\n",
    "\n",
    "![structure](./structure_graph.png)\n"
   ]
  },
  {
   "cell_type": "code",
   "execution_count": 10,
   "metadata": {
    "collapsed": false
   },
   "outputs": [],
   "source": [
    "### Train your model here.\n",
    "### Feel free to use as many code cells as needed.\n",
    "\n",
    "def optimize(eta = 0.001, opt='Adam'):\n",
    "    if opt == 'Adam':\n",
    "        return tf.train.AdamOptimizer(learning_rate=eta)\n",
    "    elif opt == 'Adagrad':\n",
    "        return tf.train.AdagradOptimizer(learning_rate=eta)\n",
    "    elif opt == 'Momentum':\n",
    "        return tf.train.MomentumOptimizer(learning_rate=eta)\n",
    "    elif opt == 'AdagradDA':\n",
    "        return tf.train.AdagradDAOptimizer(learning_rate=eta)\n",
    "    elif opt == 'Adadelta':\n",
    "        return tf.train.AdadeltaOptimizer(learning_rate=eta)\n",
    "    elif opt == 'GradientDescent':\n",
    "        return tf.train.GradientDescentOptimizer(learning_rate=eta)\n",
    "    \n",
    "image_shape = X_train_processed[0].shape\n",
    "x = tf.placeholder(tf.float32, (None,) + image_shape, name = \"x\")\n",
    "y = tf.placeholder(tf.int32, (None), name=\"y\")\n",
    "keep_prob = tf.placeholder(tf.float32)\n",
    "one_hot_y = tf.one_hot(y, n_classes)\n",
    "\n",
    "# LeNet\n",
    "logits, hidden_weights_1, hidden_bias_1, hidden_weights_2, hidden_bias_2, sum_lenet = LeNet(x, keep_prob)\n",
    "\n",
    "# Loss\n",
    "with tf.name_scope(\"loss_operation\"):\n",
    "    cross_entropy = tf.nn.softmax_cross_entropy_with_logits(logits, one_hot_y)\n",
    "\n",
    "    beta = 0.0001\n",
    "    l2_reg_weights_1 = beta*tf.nn.l2_loss(hidden_weights_1)\n",
    "    l2_reg_bias_1 = beta*tf.nn.l2_loss(hidden_bias_1)\n",
    "    l2_reg_weights_2 = beta*tf.nn.l2_loss(hidden_weights_2)\n",
    "    l2_reg_bias_2 = beta*tf.nn.l2_loss(hidden_bias_2)\n",
    "\n",
    "    loss_operation = tf.reduce_mean(cross_entropy + \\\n",
    "                                    l2_reg_weights_1 + l2_reg_bias_1 + l2_reg_weights_2 + l2_reg_bias_2)\n",
    "    sum_loss = tf.summary.scalar('loss', cross_entropy)\n",
    "\n",
    "# Optimize: Adam\n",
    "with tf.name_scope(\"optimize\"):\n",
    "    optimizer = optimize(eta = learning_rate, opt='Adam')\n",
    "    training_operation = optimizer.minimize(loss_operation)\n",
    "\n",
    "\n",
    "with tf.name_scope(\"accuracy_operation\"):\n",
    "    correct_prediction = tf.equal(tf.argmax(logits, 1), tf.argmax(one_hot_y, 1))\n",
    "    accuracy_operation = tf.reduce_mean(tf.cast(correct_prediction, tf.float32))\n",
    "    sum_acc = tf.summary.scalar('accuracy', accuracy_operation)\n",
    "    \n",
    "saver = tf.train.Saver()\n",
    "merged = tf.summary.merge([sum_lenet, sum_loss, sum_acc])\n",
    "\n",
    "def evaluate(X_data, y_data):\n",
    "    merged = tf.summary.merge_all()\n",
    "    num_examples = len(X_data)\n",
    "    total_accuracy = 0\n",
    "    sess = tf.get_default_session()\n",
    "    for offset in range(0, num_examples, BATCH_SIZE):\n",
    "        kb = 1\n",
    "        batch_x, batch_y = X_data[offset:offset+BATCH_SIZE], y_data[offset:offset+BATCH_SIZE]\n",
    "        accuracy = sess.run(accuracy_operation, \\\n",
    "                                     feed_dict={x: batch_x, y: batch_y, keep_prob:kb})\n",
    "        #writer.add_summary(summary, offset)\n",
    "        total_accuracy += (accuracy * len(batch_x))\n",
    "    return total_accuracy / num_examples\n"
   ]
  },
  {
   "cell_type": "code",
   "execution_count": 11,
   "metadata": {
    "collapsed": false
   },
   "outputs": [
    {
     "name": "stdout",
     "output_type": "stream",
     "text": [
      "Training...\n",
      "\n",
      "EPOCH 1 ...\n",
      "Validation Accuracy = 0.87439\n",
      "Test Accuracy = 0.82549\n",
      "\n",
      "Model saved\n",
      "EPOCH 2 ...\n",
      "Validation Accuracy = 0.94402\n",
      "Test Accuracy = 0.90222\n",
      "\n",
      "Model saved\n",
      "EPOCH 3 ...\n",
      "Validation Accuracy = 0.96378\n",
      "Test Accuracy = 0.91884\n",
      "\n",
      "Model saved\n",
      "EPOCH 4 ...\n",
      "Validation Accuracy = 0.98023\n",
      "Test Accuracy = 0.93001\n",
      "\n",
      "Model saved\n",
      "EPOCH 5 ...\n",
      "Validation Accuracy = 0.98138\n",
      "Test Accuracy = 0.92969\n",
      "\n",
      "EPOCH 6 ...\n",
      "Validation Accuracy = 0.98903\n",
      "Test Accuracy = 0.94117\n",
      "\n",
      "Model saved\n",
      "EPOCH 7 ...\n",
      "Validation Accuracy = 0.99095\n",
      "Test Accuracy = 0.94196\n",
      "\n",
      "Model saved\n",
      "EPOCH 8 ...\n",
      "Validation Accuracy = 0.99350\n",
      "Test Accuracy = 0.94759\n",
      "\n",
      "Model saved\n",
      "EPOCH 9 ...\n",
      "Validation Accuracy = 0.99566\n",
      "Test Accuracy = 0.94656\n",
      "\n",
      "EPOCH 10 ...\n",
      "Validation Accuracy = 0.99630\n",
      "Test Accuracy = 0.94980\n",
      "\n",
      "Model saved\n",
      "EPOCH 11 ...\n",
      "Validation Accuracy = 0.99337\n",
      "Test Accuracy = 0.94608\n",
      "\n",
      "EPOCH 12 ...\n",
      "Validation Accuracy = 0.99605\n",
      "Test Accuracy = 0.95194\n",
      "\n",
      "Model saved\n",
      "EPOCH 13 ...\n",
      "Validation Accuracy = 0.99834\n",
      "Test Accuracy = 0.95020\n",
      "\n",
      "EPOCH 14 ...\n",
      "Validation Accuracy = 0.99770\n",
      "Test Accuracy = 0.95115\n",
      "\n",
      "EPOCH 15 ...\n",
      "Validation Accuracy = 0.99732\n",
      "Test Accuracy = 0.95115\n",
      "\n",
      "EPOCH 16 ...\n",
      "Validation Accuracy = 0.99707\n",
      "Test Accuracy = 0.95051\n",
      "\n",
      "EPOCH 17 ...\n",
      "Validation Accuracy = 0.99707\n",
      "Test Accuracy = 0.95139\n",
      "\n",
      "EPOCH 18 ...\n",
      "Validation Accuracy = 0.99617\n",
      "Test Accuracy = 0.95273\n",
      "\n",
      "Model saved\n",
      "EPOCH 19 ...\n",
      "Validation Accuracy = 0.99898\n",
      "Test Accuracy = 0.95218\n",
      "\n",
      "EPOCH 20 ...\n",
      "Validation Accuracy = 0.99528\n",
      "Test Accuracy = 0.94759\n",
      "\n",
      "EPOCH 21 ...\n",
      "Validation Accuracy = 0.99949\n",
      "Test Accuracy = 0.95542\n",
      "\n",
      "Model saved\n",
      "EPOCH 22 ...\n",
      "Validation Accuracy = 0.99656\n",
      "Test Accuracy = 0.95218\n",
      "\n",
      "EPOCH 23 ...\n",
      "Validation Accuracy = 0.99974\n",
      "Test Accuracy = 0.95922\n",
      "\n",
      "Model saved\n",
      "EPOCH 24 ...\n",
      "Validation Accuracy = 0.99821\n",
      "Test Accuracy = 0.95447\n",
      "\n",
      "EPOCH 25 ...\n",
      "Validation Accuracy = 0.99962\n",
      "Test Accuracy = 0.95764\n",
      "\n",
      "EPOCH 26 ...\n",
      "Validation Accuracy = 0.99949\n",
      "Test Accuracy = 0.96152\n",
      "\n",
      "Model saved\n",
      "EPOCH 27 ...\n",
      "Validation Accuracy = 0.99974\n",
      "Test Accuracy = 0.96255\n",
      "\n",
      "Model saved\n",
      "EPOCH 28 ...\n",
      "Validation Accuracy = 0.99949\n",
      "Test Accuracy = 0.96010\n",
      "\n",
      "EPOCH 29 ...\n",
      "Validation Accuracy = 0.99987\n",
      "Test Accuracy = 0.96081\n",
      "\n",
      "EPOCH 30 ...\n",
      "Validation Accuracy = 0.99834\n",
      "Test Accuracy = 0.95178\n",
      "\n",
      "EPOCH 31 ...\n",
      "Validation Accuracy = 0.99987\n",
      "Test Accuracy = 0.96136\n",
      "\n",
      "EPOCH 32 ...\n",
      "Validation Accuracy = 0.99923\n",
      "Test Accuracy = 0.95994\n",
      "\n",
      "EPOCH 33 ...\n",
      "Validation Accuracy = 0.99974\n",
      "Test Accuracy = 0.96247\n",
      "\n",
      "EPOCH 34 ...\n",
      "Validation Accuracy = 1.00000\n",
      "Test Accuracy = 0.96176\n",
      "\n",
      "EPOCH 35 ...\n",
      "Validation Accuracy = 0.99923\n",
      "Test Accuracy = 0.96192\n",
      "\n",
      "EPOCH 36 ...\n",
      "Validation Accuracy = 0.99987\n",
      "Test Accuracy = 0.96500\n",
      "\n",
      "Model saved\n",
      "EPOCH 37 ...\n",
      "Validation Accuracy = 1.00000\n",
      "Test Accuracy = 0.96382\n",
      "\n",
      "EPOCH 38 ...\n",
      "Validation Accuracy = 0.99911\n",
      "Test Accuracy = 0.96207\n",
      "\n",
      "EPOCH 39 ...\n",
      "Validation Accuracy = 0.99898\n",
      "Test Accuracy = 0.96033\n",
      "\n",
      "EPOCH 40 ...\n",
      "Validation Accuracy = 0.99974\n",
      "Test Accuracy = 0.96524\n",
      "\n",
      "Model saved\n",
      "EPOCH 41 ...\n",
      "Validation Accuracy = 1.00000\n",
      "Test Accuracy = 0.96714\n",
      "\n",
      "Model saved\n",
      "EPOCH 42 ...\n",
      "Validation Accuracy = 1.00000\n",
      "Test Accuracy = 0.96754\n",
      "\n",
      "Model saved\n",
      "EPOCH 43 ...\n",
      "Validation Accuracy = 0.99962\n",
      "Test Accuracy = 0.95519\n",
      "\n",
      "EPOCH 44 ...\n",
      "Validation Accuracy = 0.99936\n",
      "Test Accuracy = 0.96207\n",
      "\n",
      "EPOCH 45 ...\n",
      "Validation Accuracy = 0.99987\n",
      "Test Accuracy = 0.96659\n",
      "\n",
      "EPOCH 46 ...\n",
      "Validation Accuracy = 0.99860\n",
      "Test Accuracy = 0.95606\n",
      "\n",
      "EPOCH 47 ...\n",
      "Validation Accuracy = 1.00000\n",
      "Test Accuracy = 0.96342\n",
      "\n",
      "EPOCH 48 ...\n",
      "Validation Accuracy = 0.99962\n",
      "Test Accuracy = 0.95994\n",
      "\n",
      "EPOCH 49 ...\n",
      "Validation Accuracy = 1.00000\n",
      "Test Accuracy = 0.96326\n",
      "\n",
      "EPOCH 50 ...\n",
      "Validation Accuracy = 0.99987\n",
      "Test Accuracy = 0.96975\n",
      "\n",
      "Model saved\n",
      "EPOCH 51 ...\n",
      "Validation Accuracy = 1.00000\n",
      "Test Accuracy = 0.96770\n",
      "\n",
      "EPOCH 52 ...\n",
      "Validation Accuracy = 0.99949\n",
      "Test Accuracy = 0.96255\n",
      "\n",
      "EPOCH 53 ...\n",
      "Validation Accuracy = 0.99987\n",
      "Test Accuracy = 0.96413\n",
      "\n",
      "EPOCH 54 ...\n",
      "Validation Accuracy = 1.00000\n",
      "Test Accuracy = 0.96485\n",
      "\n",
      "EPOCH 55 ...\n",
      "Validation Accuracy = 0.99987\n",
      "Test Accuracy = 0.96754\n",
      "\n",
      "EPOCH 56 ...\n",
      "Validation Accuracy = 0.99949\n",
      "Test Accuracy = 0.96912\n",
      "\n",
      "EPOCH 57 ...\n",
      "Validation Accuracy = 1.00000\n",
      "Test Accuracy = 0.96690\n",
      "\n",
      "EPOCH 58 ...\n",
      "Validation Accuracy = 0.99707\n",
      "Test Accuracy = 0.95534\n",
      "\n",
      "EPOCH 59 ...\n",
      "Validation Accuracy = 0.99987\n",
      "Test Accuracy = 0.96200\n",
      "\n",
      "EPOCH 60 ...\n",
      "Validation Accuracy = 0.99923\n",
      "Test Accuracy = 0.96017\n",
      "\n",
      "EPOCH 61 ...\n",
      "Validation Accuracy = 0.99911\n",
      "Test Accuracy = 0.96239\n",
      "\n",
      "EPOCH 62 ...\n",
      "Validation Accuracy = 1.00000\n",
      "Test Accuracy = 0.96255\n",
      "\n",
      "EPOCH 63 ...\n",
      "Validation Accuracy = 0.99987\n",
      "Test Accuracy = 0.96706\n",
      "\n",
      "EPOCH 64 ...\n",
      "Validation Accuracy = 1.00000\n",
      "Test Accuracy = 0.96619\n",
      "\n",
      "EPOCH 65 ...\n",
      "Validation Accuracy = 1.00000\n",
      "Test Accuracy = 0.97102\n",
      "\n",
      "Model saved\n",
      "EPOCH 66 ...\n",
      "Validation Accuracy = 0.99974\n",
      "Test Accuracy = 0.96785\n",
      "\n",
      "EPOCH 67 ...\n",
      "Validation Accuracy = 0.99962\n",
      "Test Accuracy = 0.96057\n",
      "\n",
      "EPOCH 68 ...\n",
      "Validation Accuracy = 0.99962\n",
      "Test Accuracy = 0.96714\n",
      "\n",
      "EPOCH 69 ...\n",
      "Validation Accuracy = 0.99987\n",
      "Test Accuracy = 0.96374\n",
      "\n",
      "EPOCH 70 ...\n",
      "Validation Accuracy = 0.99987\n",
      "Test Accuracy = 0.96778\n",
      "\n",
      "EPOCH 71 ...\n",
      "Validation Accuracy = 0.99898\n",
      "Test Accuracy = 0.96461\n",
      "\n",
      "EPOCH 72 ...\n",
      "Validation Accuracy = 1.00000\n",
      "Test Accuracy = 0.96611\n",
      "\n",
      "EPOCH 73 ...\n",
      "Validation Accuracy = 0.99987\n",
      "Test Accuracy = 0.97023\n",
      "\n",
      "EPOCH 74 ...\n",
      "Validation Accuracy = 1.00000\n",
      "Test Accuracy = 0.96770\n",
      "\n",
      "EPOCH 75 ...\n",
      "Validation Accuracy = 0.99987\n",
      "Test Accuracy = 0.96793\n",
      "\n",
      "EPOCH 76 ...\n",
      "Validation Accuracy = 1.00000\n",
      "Test Accuracy = 0.96785\n",
      "\n",
      "EPOCH 77 ...\n",
      "Validation Accuracy = 1.00000\n",
      "Test Accuracy = 0.96865\n",
      "\n",
      "EPOCH 78 ...\n",
      "Validation Accuracy = 1.00000\n",
      "Test Accuracy = 0.96413\n",
      "\n",
      "EPOCH 79 ...\n",
      "Validation Accuracy = 1.00000\n",
      "Test Accuracy = 0.96374\n",
      "\n",
      "EPOCH 80 ...\n",
      "Validation Accuracy = 1.00000\n",
      "Test Accuracy = 0.96667\n",
      "\n",
      "EPOCH 81 ...\n",
      "Validation Accuracy = 1.00000\n",
      "Test Accuracy = 0.96873\n",
      "\n",
      "EPOCH 82 ...\n",
      "Validation Accuracy = 1.00000\n",
      "Test Accuracy = 0.96849\n",
      "\n",
      "EPOCH 83 ...\n",
      "Validation Accuracy = 1.00000\n",
      "Test Accuracy = 0.97086\n",
      "\n",
      "EPOCH 84 ...\n",
      "Validation Accuracy = 1.00000\n",
      "Test Accuracy = 0.96675\n",
      "\n",
      "EPOCH 85 ...\n",
      "Validation Accuracy = 0.99885\n",
      "Test Accuracy = 0.96445\n",
      "\n",
      "EPOCH 86 ...\n",
      "Validation Accuracy = 1.00000\n",
      "Test Accuracy = 0.96627\n",
      "\n",
      "EPOCH 87 ...\n",
      "Validation Accuracy = 0.99872\n",
      "Test Accuracy = 0.96089\n",
      "\n",
      "EPOCH 88 ...\n",
      "Validation Accuracy = 0.99987\n",
      "Test Accuracy = 0.96405\n",
      "\n",
      "EPOCH 89 ...\n",
      "Validation Accuracy = 0.99974\n",
      "Test Accuracy = 0.96611\n",
      "\n",
      "EPOCH 90 ...\n",
      "Validation Accuracy = 0.99987\n",
      "Test Accuracy = 0.97039\n",
      "\n",
      "EPOCH 91 ...\n",
      "Validation Accuracy = 1.00000\n",
      "Test Accuracy = 0.96912\n",
      "\n",
      "EPOCH 92 ...\n",
      "Validation Accuracy = 0.99987\n",
      "Test Accuracy = 0.96920\n",
      "\n",
      "EPOCH 93 ...\n",
      "Validation Accuracy = 1.00000\n",
      "Test Accuracy = 0.97150\n",
      "\n",
      "Model saved\n",
      "EPOCH 94 ...\n",
      "Validation Accuracy = 0.99936\n",
      "Test Accuracy = 0.96437\n",
      "\n",
      "EPOCH 95 ...\n",
      "Validation Accuracy = 0.99987\n",
      "Test Accuracy = 0.96873\n",
      "\n",
      "EPOCH 96 ...\n",
      "Validation Accuracy = 1.00000\n",
      "Test Accuracy = 0.96801\n",
      "\n",
      "EPOCH 97 ...\n",
      "Validation Accuracy = 0.99974\n",
      "Test Accuracy = 0.96904\n",
      "\n",
      "EPOCH 98 ...\n",
      "Validation Accuracy = 0.99962\n",
      "Test Accuracy = 0.96785\n",
      "\n",
      "EPOCH 99 ...\n",
      "Validation Accuracy = 0.99936\n",
      "Test Accuracy = 0.96485\n",
      "\n",
      "EPOCH 100 ...\n",
      "Validation Accuracy = 0.99987\n",
      "Test Accuracy = 0.96690\n",
      "\n",
      "EPOCH 101 ...\n",
      "Validation Accuracy = 0.99974\n",
      "Test Accuracy = 0.97102\n",
      "\n",
      "EPOCH 102 ...\n",
      "Validation Accuracy = 1.00000\n",
      "Test Accuracy = 0.97086\n",
      "\n",
      "EPOCH 103 ...\n",
      "Validation Accuracy = 1.00000\n",
      "Test Accuracy = 0.97237\n",
      "\n",
      "Model saved\n",
      "EPOCH 104 ...\n",
      "Validation Accuracy = 1.00000\n",
      "Test Accuracy = 0.97086\n",
      "\n",
      "EPOCH 105 ...\n",
      "Validation Accuracy = 1.00000\n",
      "Test Accuracy = 0.97308\n",
      "\n",
      "Model saved\n",
      "EPOCH 106 ...\n",
      "Validation Accuracy = 0.99515\n",
      "Test Accuracy = 0.96041\n",
      "\n",
      "EPOCH 107 ...\n",
      "Validation Accuracy = 1.00000\n",
      "Test Accuracy = 0.96983\n",
      "\n",
      "EPOCH 108 ...\n",
      "Validation Accuracy = 1.00000\n",
      "Test Accuracy = 0.96936\n",
      "\n",
      "EPOCH 109 ...\n",
      "Validation Accuracy = 0.99974\n",
      "Test Accuracy = 0.96746\n",
      "\n",
      "EPOCH 110 ...\n",
      "Validation Accuracy = 0.99872\n",
      "Test Accuracy = 0.96033\n",
      "\n",
      "EPOCH 111 ...\n",
      "Validation Accuracy = 0.99949\n",
      "Test Accuracy = 0.96920\n",
      "\n",
      "EPOCH 112 ...\n",
      "Validation Accuracy = 0.99974\n",
      "Test Accuracy = 0.96857\n",
      "\n",
      "EPOCH 113 ...\n",
      "Validation Accuracy = 0.99987\n",
      "Test Accuracy = 0.96643\n",
      "\n",
      "EPOCH 114 ...\n",
      "Validation Accuracy = 0.99885\n",
      "Test Accuracy = 0.96287\n",
      "\n",
      "EPOCH 115 ...\n",
      "Validation Accuracy = 0.99987\n",
      "Test Accuracy = 0.97102\n",
      "\n",
      "EPOCH 116 ...\n",
      "Validation Accuracy = 0.99962\n",
      "Test Accuracy = 0.97023\n",
      "\n",
      "EPOCH 117 ...\n",
      "Validation Accuracy = 0.99987\n",
      "Test Accuracy = 0.97221\n",
      "\n",
      "EPOCH 118 ...\n",
      "Validation Accuracy = 1.00000\n",
      "Test Accuracy = 0.97411\n",
      "\n",
      "Model saved\n",
      "EPOCH 119 ...\n",
      "Validation Accuracy = 0.99974\n",
      "Test Accuracy = 0.97007\n",
      "\n",
      "EPOCH 120 ...\n",
      "Validation Accuracy = 1.00000\n",
      "Test Accuracy = 0.97007\n",
      "\n",
      "EPOCH 121 ...\n",
      "Validation Accuracy = 1.00000\n",
      "Test Accuracy = 0.97268\n",
      "\n",
      "EPOCH 122 ...\n",
      "Validation Accuracy = 0.99936\n",
      "Test Accuracy = 0.96025\n",
      "\n",
      "EPOCH 123 ...\n",
      "Validation Accuracy = 0.99898\n",
      "Test Accuracy = 0.96279\n",
      "\n",
      "EPOCH 124 ...\n",
      "Validation Accuracy = 1.00000\n",
      "Test Accuracy = 0.97047\n",
      "\n",
      "EPOCH 125 ...\n",
      "Validation Accuracy = 0.99987\n",
      "Test Accuracy = 0.97150\n",
      "\n",
      "EPOCH 126 ...\n",
      "Validation Accuracy = 1.00000\n",
      "Test Accuracy = 0.97102\n",
      "\n",
      "EPOCH 127 ...\n",
      "Validation Accuracy = 0.99911\n",
      "Test Accuracy = 0.96429\n",
      "\n",
      "EPOCH 128 ...\n",
      "Validation Accuracy = 1.00000\n",
      "Test Accuracy = 0.96690\n",
      "\n",
      "EPOCH 129 ...\n",
      "Validation Accuracy = 1.00000\n",
      "Test Accuracy = 0.96928\n",
      "\n",
      "EPOCH 130 ...\n",
      "Validation Accuracy = 1.00000\n",
      "Test Accuracy = 0.97181\n",
      "\n",
      "EPOCH 131 ...\n",
      "Validation Accuracy = 1.00000\n",
      "Test Accuracy = 0.97245\n",
      "\n",
      "EPOCH 132 ...\n",
      "Validation Accuracy = 1.00000\n",
      "Test Accuracy = 0.97158\n",
      "\n",
      "EPOCH 133 ...\n",
      "Validation Accuracy = 1.00000\n",
      "Test Accuracy = 0.97031\n",
      "\n",
      "EPOCH 134 ...\n",
      "Validation Accuracy = 1.00000\n",
      "Test Accuracy = 0.96936\n",
      "\n",
      "EPOCH 135 ...\n",
      "Validation Accuracy = 0.99974\n",
      "Test Accuracy = 0.96516\n",
      "\n",
      "EPOCH 136 ...\n",
      "Validation Accuracy = 1.00000\n",
      "Test Accuracy = 0.97245\n",
      "\n",
      "EPOCH 137 ...\n",
      "Validation Accuracy = 1.00000\n",
      "Test Accuracy = 0.97221\n",
      "\n",
      "EPOCH 138 ...\n",
      "Validation Accuracy = 0.99987\n",
      "Test Accuracy = 0.96801\n",
      "\n",
      "EPOCH 139 ...\n",
      "Validation Accuracy = 1.00000\n",
      "Test Accuracy = 0.96896\n",
      "\n",
      "EPOCH 140 ...\n",
      "Validation Accuracy = 1.00000\n",
      "Test Accuracy = 0.96778\n",
      "\n",
      "EPOCH 141 ...\n",
      "Validation Accuracy = 1.00000\n",
      "Test Accuracy = 0.96627\n",
      "\n",
      "EPOCH 142 ...\n",
      "Validation Accuracy = 0.99987\n",
      "Test Accuracy = 0.96397\n",
      "\n",
      "EPOCH 143 ...\n",
      "Validation Accuracy = 0.99745\n",
      "Test Accuracy = 0.96017\n",
      "\n",
      "EPOCH 144 ...\n",
      "Validation Accuracy = 0.99987\n",
      "Test Accuracy = 0.96849\n",
      "\n",
      "EPOCH 145 ...\n",
      "Validation Accuracy = 0.99923\n",
      "Test Accuracy = 0.96540\n",
      "\n",
      "EPOCH 146 ...\n",
      "Validation Accuracy = 0.99987\n",
      "Test Accuracy = 0.96635\n",
      "\n",
      "EPOCH 147 ...\n",
      "Validation Accuracy = 0.99987\n",
      "Test Accuracy = 0.96841\n",
      "\n",
      "EPOCH 148 ...\n",
      "Validation Accuracy = 0.99987\n",
      "Test Accuracy = 0.96445\n",
      "\n",
      "EPOCH 149 ...\n",
      "Validation Accuracy = 0.99962\n",
      "Test Accuracy = 0.96611\n",
      "\n",
      "EPOCH 150 ...\n",
      "Validation Accuracy = 0.99987\n",
      "Test Accuracy = 0.96675\n",
      "\n",
      "EPOCH 151 ...\n",
      "Validation Accuracy = 0.99987\n",
      "Test Accuracy = 0.97015\n",
      "\n",
      "EPOCH 152 ...\n",
      "Validation Accuracy = 0.99656\n",
      "Test Accuracy = 0.96532\n",
      "\n",
      "EPOCH 153 ...\n",
      "Validation Accuracy = 1.00000\n",
      "Test Accuracy = 0.96849\n",
      "\n",
      "EPOCH 154 ...\n",
      "Validation Accuracy = 1.00000\n",
      "Test Accuracy = 0.97015\n",
      "\n",
      "EPOCH 155 ...\n",
      "Validation Accuracy = 0.99962\n",
      "Test Accuracy = 0.96912\n",
      "\n",
      "EPOCH 156 ...\n",
      "Validation Accuracy = 1.00000\n",
      "Test Accuracy = 0.96833\n",
      "\n",
      "EPOCH 157 ...\n",
      "Validation Accuracy = 1.00000\n",
      "Test Accuracy = 0.97253\n",
      "\n",
      "EPOCH 158 ...\n",
      "Validation Accuracy = 0.99809\n",
      "Test Accuracy = 0.96500\n",
      "\n",
      "EPOCH 159 ...\n",
      "Validation Accuracy = 0.99974\n",
      "Test Accuracy = 0.97356\n",
      "\n",
      "EPOCH 160 ...\n",
      "Validation Accuracy = 0.99987\n",
      "Test Accuracy = 0.97031\n",
      "\n",
      "EPOCH 161 ...\n",
      "Validation Accuracy = 0.99987\n",
      "Test Accuracy = 0.97110\n",
      "\n",
      "EPOCH 162 ...\n",
      "Validation Accuracy = 1.00000\n",
      "Test Accuracy = 0.97300\n",
      "\n",
      "EPOCH 163 ...\n",
      "Validation Accuracy = 1.00000\n",
      "Test Accuracy = 0.97094\n",
      "\n",
      "EPOCH 164 ...\n",
      "Validation Accuracy = 0.99949\n",
      "Test Accuracy = 0.96896\n",
      "\n",
      "EPOCH 165 ...\n",
      "Validation Accuracy = 1.00000\n",
      "Test Accuracy = 0.97110\n",
      "\n",
      "EPOCH 166 ...\n",
      "Validation Accuracy = 1.00000\n",
      "Test Accuracy = 0.97165\n",
      "\n",
      "EPOCH 167 ...\n",
      "Validation Accuracy = 1.00000\n",
      "Test Accuracy = 0.97253\n",
      "\n",
      "EPOCH 168 ...\n",
      "Validation Accuracy = 1.00000\n",
      "Test Accuracy = 0.97260\n",
      "\n",
      "EPOCH 169 ...\n",
      "Validation Accuracy = 1.00000\n",
      "Test Accuracy = 0.97490\n",
      "\n",
      "Model saved\n",
      "EPOCH 170 ...\n",
      "Validation Accuracy = 1.00000\n",
      "Test Accuracy = 0.97356\n",
      "\n",
      "EPOCH 171 ...\n",
      "Validation Accuracy = 1.00000\n",
      "Test Accuracy = 0.97371\n",
      "\n",
      "EPOCH 172 ...\n",
      "Validation Accuracy = 0.99809\n",
      "Test Accuracy = 0.95780\n",
      "\n",
      "EPOCH 173 ...\n",
      "Validation Accuracy = 0.99987\n",
      "Test Accuracy = 0.96920\n",
      "\n",
      "EPOCH 174 ...\n",
      "Validation Accuracy = 1.00000\n",
      "Test Accuracy = 0.96999\n",
      "\n",
      "EPOCH 175 ...\n",
      "Validation Accuracy = 0.99987\n",
      "Test Accuracy = 0.96714\n",
      "\n",
      "EPOCH 176 ...\n",
      "Validation Accuracy = 0.99987\n",
      "Test Accuracy = 0.97070\n",
      "\n",
      "EPOCH 177 ...\n",
      "Validation Accuracy = 0.99962\n",
      "Test Accuracy = 0.96944\n",
      "\n",
      "EPOCH 178 ...\n",
      "Validation Accuracy = 1.00000\n",
      "Test Accuracy = 0.96873\n",
      "\n",
      "EPOCH 179 ...\n",
      "Validation Accuracy = 1.00000\n",
      "Test Accuracy = 0.96896\n",
      "\n",
      "EPOCH 180 ...\n",
      "Validation Accuracy = 0.99974\n",
      "Test Accuracy = 0.96960\n",
      "\n",
      "EPOCH 181 ...\n",
      "Validation Accuracy = 1.00000\n",
      "Test Accuracy = 0.96706\n",
      "\n",
      "EPOCH 182 ...\n",
      "Validation Accuracy = 1.00000\n",
      "Test Accuracy = 0.97181\n",
      "\n",
      "EPOCH 183 ...\n",
      "Validation Accuracy = 1.00000\n",
      "Test Accuracy = 0.97332\n",
      "\n",
      "EPOCH 184 ...\n",
      "Validation Accuracy = 1.00000\n",
      "Test Accuracy = 0.97490\n",
      "\n",
      "Model saved\n",
      "EPOCH 185 ...\n",
      "Validation Accuracy = 1.00000\n",
      "Test Accuracy = 0.97165\n",
      "\n",
      "EPOCH 186 ...\n",
      "Validation Accuracy = 0.99796\n",
      "Test Accuracy = 0.96168\n",
      "\n",
      "EPOCH 187 ...\n",
      "Validation Accuracy = 0.99987\n",
      "Test Accuracy = 0.96825\n",
      "\n",
      "EPOCH 188 ...\n",
      "Validation Accuracy = 0.99987\n",
      "Test Accuracy = 0.96762\n",
      "\n",
      "EPOCH 189 ...\n",
      "Validation Accuracy = 0.99987\n",
      "Test Accuracy = 0.96540\n",
      "\n",
      "EPOCH 190 ...\n",
      "Validation Accuracy = 0.99987\n",
      "Test Accuracy = 0.96952\n",
      "\n",
      "EPOCH 191 ...\n",
      "Validation Accuracy = 0.99962\n",
      "Test Accuracy = 0.97039\n",
      "\n",
      "EPOCH 192 ...\n",
      "Validation Accuracy = 1.00000\n",
      "Test Accuracy = 0.97268\n",
      "\n",
      "EPOCH 193 ...\n",
      "Validation Accuracy = 0.99974\n",
      "Test Accuracy = 0.96873\n",
      "\n",
      "EPOCH 194 ...\n",
      "Validation Accuracy = 0.99974\n",
      "Test Accuracy = 0.96865\n",
      "\n",
      "EPOCH 195 ...\n",
      "Validation Accuracy = 1.00000\n",
      "Test Accuracy = 0.96888\n",
      "\n",
      "EPOCH 196 ...\n",
      "Validation Accuracy = 0.99962\n",
      "Test Accuracy = 0.96912\n",
      "\n",
      "EPOCH 197 ...\n",
      "Validation Accuracy = 1.00000\n",
      "Test Accuracy = 0.97126\n",
      "\n",
      "EPOCH 198 ...\n",
      "Validation Accuracy = 1.00000\n",
      "Test Accuracy = 0.97300\n",
      "\n",
      "EPOCH 199 ...\n",
      "Validation Accuracy = 1.00000\n",
      "Test Accuracy = 0.97253\n",
      "\n",
      "EPOCH 200 ...\n",
      "Validation Accuracy = 1.00000\n",
      "Test Accuracy = 0.97229\n",
      "\n"
     ]
    }
   ],
   "source": [
    "with tf.Session() as sess:\n",
    "    writer = tf.summary.FileWriter('./logs/CNN', graph = sess.graph)\n",
    "    #writer.add_graph(graph = sess.graph)\n",
    "    \n",
    "    sess.run(tf.global_variables_initializer())\n",
    "    \n",
    "    ep = np.array([])\n",
    "    v_acc = np.array([])\n",
    "    t_acc = np.array([])\n",
    "    \n",
    "    print(\"Training...\")\n",
    "    print()\n",
    "    test_accuracy = 0\n",
    "    best_try = 0\n",
    "    i = 0\n",
    "    while (i < EPOCHS and test_accuracy < 0.98):\n",
    "        X_train, y_train, X_validation, y_validation = separate_train_val_test(X_train_processed, X_sizes, X_coords, y_train_raw)\n",
    "        num_examples = len(X_train)\n",
    "        for offset in range(0, num_examples, BATCH_SIZE):\n",
    "            kb = 0.8\n",
    "            end = offset + BATCH_SIZE\n",
    "            batch_x, batch_y = X_train[offset:end], y_train[offset:end]\n",
    "            sess.run(training_operation, feed_dict={x: batch_x, y: batch_y, keep_prob:kb})\n",
    "            \n",
    "        validation_accuracy = evaluate(X_validation, y_validation)\n",
    "        test_accuracy = evaluate(X_test_processed, y_test)\n",
    "        print(\"EPOCH {} ...\".format(i+1))\n",
    "        print(\"Validation Accuracy = {:.5f}\".format(validation_accuracy))\n",
    "        print(\"Test Accuracy = {:.5f}\".format(test_accuracy))\n",
    "        print()\n",
    "        \n",
    "        \n",
    "        ep = np.append(ep, i+1)\n",
    "        v_acc = np.append(v_acc, validation_accuracy)\n",
    "        t_acc = np.append(t_acc, test_accuracy)\n",
    "        i = i+1\n",
    "        \n",
    "        if test_accuracy>best_try:\n",
    "            best_try = test_accuracy\n",
    "            saver.save(sess, cwd+'/logs/CNN/lenet.ckpt')\n",
    "            print(\"Model saved\")\n",
    "    \n",
    "    "
   ]
  },
  {
   "cell_type": "code",
   "execution_count": 12,
   "metadata": {
    "collapsed": false
   },
   "outputs": [
    {
     "data": {
      "image/png": "[encoded data removed]",
      "text/plain": [
       "<matplotlib.figure.Figure at 0x7ff228dff080>"
      ]
     },
     "metadata": {},
     "output_type": "display_data"
    }
   ],
   "source": [
    "plt.figure()\n",
    "plt.plot(ep, v_acc)\n",
    "plt.plot(ep, t_acc)\n",
    "plt.ylim([0.95, 1.01])\n",
    "plt.grid()\n"
   ]
  },
  {
   "cell_type": "markdown",
   "metadata": {},
   "source": [
    "### Question 4\n",
    "\n",
    "_How did you train your model? (Type of optimizer, batch size, epochs, hyperparameters, etc.)_\n"
   ]
  },
  {
   "cell_type": "markdown",
   "metadata": {},
   "source": [
    "**Answer:**\n",
    "\n",
    "- *Optimizer: I use AdamOptimizer as default optimizer, I've also tried other optimizer tensorflow provided, e.g. AdaGrad, GradientDescent, but Adam works best in this case.*\n",
    "- *Batch Size: I tried 48, 64, 128 and 256. It seems that 256 works the worst and 48, 64 and 128 are doing better. *\n",
    "- *Epochs: I've tried up to 2000 epochs. It seems that the CNN can be trained up to 1000 epochs but the best parameters could already be achieved after 200 epochs. *\n",
    "- *Learning Rate: I've tried varius value between 1e-5 and 1e-4. With higher learning rate, the CNN tend to be overfitted earlier. *\n",
    "- *L2-Regulization Rate: beta is set to 1e-4. *\n",
    "- *Keep Probabiltiy of Dropouts: keep probability is set to 0.9 and 0.8, it could also be lower, both worked fine for this task.*"
   ]
  },
  {
   "cell_type": "markdown",
   "metadata": {},
   "source": [
    "### Question 5\n",
    "\n",
    "\n",
    "_What approach did you take in coming up with a solution to this problem? It may have been a process of trial and error, in which case, outline the steps you took to get to the final solution and why you chose those steps. Perhaps your solution involved an already well known implementation or architecture. In this case, discuss why you think this is suitable for the current problem._"
   ]
  },
  {
   "cell_type": "markdown",
   "metadata": {},
   "source": [
    "**Answer:**\n",
    "\n",
    "*I use a lenet-model as a starting point for this task since it contains convolutional layers which specifically suits the task of image recognition. The first try with original images without preprocessing results an accuracy on testing set of ca. 94%. \n",
    "I've added L2-regulization and dropouts to the hidden layers to prevent overfitting and preprocessed the image with grayscale and histogram equalizer. This helped me to improve the accuracy to ca. 96%. \n",
    "In order to improve this result, I've preprosess my image with colored histogram equalizer and mixed red and blue channel with grayscale image. It seems that this mix contains the most usefull information to train the CNN and I've archieved 97,1% testing accuracy by 600 epochs*"
   ]
  },
  {
   "cell_type": "markdown",
   "metadata": {},
   "source": [
    "---\n",
    "\n",
    "## Step 3: Test a Model on New Images\n",
    "\n",
    "Take several pictures of traffic signs that you find on the web or around you (at least five), and run them through your classifier on your computer to produce example results. The classifier might not recognize some local signs but it could prove interesting nonetheless.\n",
    "\n",
    "You may find `signnames.csv` useful as it contains mappings from the class id (integer) to the actual sign name."
   ]
  },
  {
   "cell_type": "markdown",
   "metadata": {},
   "source": [
    "### Implementation\n",
    "\n",
    "Use the code cell (or multiple code cells, if necessary) to implement the first step of your project. Once you have completed your implementation and are satisfied with the results, be sure to thoroughly answer the questions that follow."
   ]
  },
  {
   "cell_type": "code",
   "execution_count": 13,
   "metadata": {
    "collapsed": false
   },
   "outputs": [
    {
     "name": "stderr",
     "output_type": "stream",
     "text": [
      "/home/chili/anaconda3/lib/python3.5/site-packages/skimage/util/dtype.py:110: UserWarning: Possible precision loss when converting from float64 to uint16\n",
      "  \"%s to %s\" % (dtypeobj_in, dtypeobj))\n"
     ]
    },
    {
     "name": "stdout",
     "output_type": "stream",
     "text": [
      "test09.jpg\n",
      "test10.jpg\n",
      "test11.jpg\n",
      "test21.jpg\n",
      "test24.jpg\n"
     ]
    },
    {
     "data": {
      "image/png": "[encoded data removed]",
      "text/plain": [
       "<matplotlib.figure.Figure at 0x7ff228e5e438>"
      ]
     },
     "metadata": {},
     "output_type": "display_data"
    },
    {
     "data": {
      "image/png": "[encoded data removed]",
      "text/plain": [
       "<matplotlib.figure.Figure at 0x7ff20c79fe80>"
      ]
     },
     "metadata": {},
     "output_type": "display_data"
    },
    {
     "data": {
      "image/png": "[encoded data removed]",
      "text/plain": [
       "<matplotlib.figure.Figure at 0x7ff20c3c1828>"
      ]
     },
     "metadata": {},
     "output_type": "display_data"
    },
    {
     "data": {
      "image/png": "[encoded data removed]",
      "text/plain": [
       "<matplotlib.figure.Figure at 0x7ff2140c7b38>"
      ]
     },
     "metadata": {},
     "output_type": "display_data"
    },
    {
     "data": {
      "image/png": "[encoded data removed]",
      "text/plain": [
       "<matplotlib.figure.Figure at 0x7ff20c59b2e8>"
      ]
     },
     "metadata": {},
     "output_type": "display_data"
    }
   ],
   "source": [
    "### Load the images and plot them here.\n",
    "### Feel free to use as many code cells as needed.\n",
    "\n",
    "def resize(image, width=32, height=32):\n",
    "\n",
    "    image_resized = imresize(image, (width, width))\n",
    "    \n",
    "    return image_resized\n",
    "    \n",
    "folder_testimages = '/traffic-signs-data/test_images'\n",
    "all_image_files = os.listdir(cwd + folder_testimages)\n",
    "\n",
    "all_image_files = [fn for fn in os.listdir(cwd + folder_testimages)\n",
    "              if fn.endswith('jpg')]\n",
    "\n",
    "all_image_files = sorted(all_image_files)\n",
    "\n",
    "all_image_files = sorted(['test11.jpg', 'test21.jpg', 'test10.jpg', 'test09.jpg', 'test24.jpg'])\n",
    "\n",
    "try:\n",
    "    os.stat(cwd + folder_testimages + '/resized/')\n",
    "except:\n",
    "    os.mkdir(cwd + folder_testimages + '/resized/')  \n",
    "\n",
    "for image_file in all_image_files:\n",
    "    img = imread(cwd + folder_testimages + '/' + image_file)\n",
    "    \n",
    "    # print original image\n",
    "    plt.figure(figsize=(1,1))\n",
    "    plt.imshow(img)\n",
    "    \n",
    "    # resize and preprocess\n",
    "    img = resize(img)\n",
    " \n",
    "    img_processed = preprocess_image(img, opt='combined')\n",
    "    #plt.figure(figsize=(1,1))\n",
    "    #plt.imshow(img_processed)\n",
    "    \n",
    "    print(image_file)\n",
    "    \n",
    "    imsave(cwd + folder_testimages + '/resized/' + image_file, img)\n"
   ]
  },
  {
   "cell_type": "markdown",
   "metadata": {},
   "source": [
    "### Question 6\n",
    "\n",
    "_Choose five candidate images of traffic signs and provide them in the report. Are there any particular qualities of the image(s) that might make classification difficult? It could be helpful to plot the images in the notebook._\n",
    "\n"
   ]
  },
  {
   "cell_type": "markdown",
   "metadata": {},
   "source": [
    "**Answer:**\n",
    "\n",
    "*I've chosen some images with following challenges: *\n",
    "- *unknown signs, so it is expected that the model recognize nothing;*\n",
    "- *different view angle;*\n",
    "- *sign covered by snow; *\n",
    "- *stop sign is arabic; *\n",
    "- *sign is partly covered by tree;*\n",
    "- *2 signs in one image.*\n",
    "- *different font or graphics*"
   ]
  },
  {
   "cell_type": "code",
   "execution_count": 14,
   "metadata": {
    "collapsed": false
   },
   "outputs": [
    {
     "name": "stderr",
     "output_type": "stream",
     "text": [
      "/home/chili/anaconda3/lib/python3.5/site-packages/skimage/util/dtype.py:110: UserWarning: Possible precision loss when converting from float64 to uint16\n",
      "  \"%s to %s\" % (dtypeobj_in, dtypeobj))\n"
     ]
    },
    {
     "name": "stdout",
     "output_type": "stream",
     "text": [
      "(5, 32, 32, 3)\n",
      "Model loaded\n",
      "Test Accuracy = 0.97506\n"
     ]
    }
   ],
   "source": [
    "### Run the predictions here.\n",
    "### Feel free to use as many code cells as needed\n",
    "def prepare_image_data(all_image_files):\n",
    "\n",
    "    images = np.zeros((len(all_image_files), 32, 32, 3))\n",
    "    images_original = np.zeros((len(all_image_files), 32, 32, 3))\n",
    "    i = 0\n",
    "    for image_file in all_image_files:\n",
    "        \n",
    "        img = imread(cwd + folder_testimages + '/' + image_file)\n",
    "        img = resize(img)\n",
    "        images_original[i] = img\n",
    "        \n",
    "        img_processed = preprocess_image(img, opt='combined')\n",
    "        images[i] = img_processed\n",
    "        i = i+1\n",
    "        \n",
    "    return images, images_original\n",
    "\n",
    "image_processed, images_original = prepare_image_data(all_image_files)\n",
    "print(image_processed.shape)\n",
    "kb = 1\n",
    "\n",
    "\n",
    "prediction = tf.argmax(logits, 1)\n",
    "saver = tf.train.Saver()\n",
    "\n",
    "with tf.Session() as sess:\n",
    "\n",
    "    saver.restore(sess, cwd+'/logs/CNN/lenet.ckpt')\n",
    "    print(\"Model loaded\")\n",
    "    \n",
    "    test_accuracy = evaluate(X_test_processed, y_test)\n",
    "    print(\"Test Accuracy = {:.5f}\".format(test_accuracy))\n",
    "\n",
    "    pred = sess.run(prediction, feed_dict={x:image_processed, keep_prob:kb})\n",
    "\n",
    "    \n",
    "    "
   ]
  },
  {
   "cell_type": "code",
   "execution_count": 17,
   "metadata": {
    "collapsed": false
   },
   "outputs": [
    {
     "name": "stdout",
     "output_type": "stream",
     "text": [
      "test09.jpg: No passing\n",
      "test10.jpg: Children crossing\n",
      "test11.jpg: Slippery road\n",
      "test21.jpg: Roundabout mandatory\n",
      "test24.jpg: Children crossing\n"
     ]
    },
    {
     "data": {
      "image/png": "[encoded data removed]",
      "text/plain": [
       "<matplotlib.figure.Figure at 0x7ff228fd07f0>"
      ]
     },
     "metadata": {},
     "output_type": "display_data"
    },
    {
     "data": {
      "image/png": "[encoded data removed]",
      "text/plain": [
       "<matplotlib.figure.Figure at 0x7ff20c7b2470>"
      ]
     },
     "metadata": {},
     "output_type": "display_data"
    },
    {
     "data": {
      "image/png": "[encoded data removed]",
      "text/plain": [
       "<matplotlib.figure.Figure at 0x7ff214183f28>"
      ]
     },
     "metadata": {},
     "output_type": "display_data"
    },
    {
     "data": {
      "image/png": "[encoded data removed]",
      "text/plain": [
       "<matplotlib.figure.Figure at 0x7ff214229630>"
      ]
     },
     "metadata": {},
     "output_type": "display_data"
    },
    {
     "data": {
      "image/png": "[encoded data removed]",
      "text/plain": [
       "<matplotlib.figure.Figure at 0x7ff20c5cec18>"
      ]
     },
     "metadata": {},
     "output_type": "display_data"
    }
   ],
   "source": [
    "pred\n",
    "\n",
    "i = 0\n",
    "for image_file in all_image_files:\n",
    "    \n",
    "    img = imread(cwd + folder_testimages + '/' + image_file)\n",
    "    print(image_file + ': ' + signnames[pred[i]])\n",
    "    \n",
    "    plt.figure(figsize=(1,1))\n",
    "    plt.imshow(image_processed[i])\n",
    "    i=i+1\n",
    "    \n",
    "    "
   ]
  },
  {
   "cell_type": "code",
   "execution_count": 84,
   "metadata": {
    "collapsed": false
   },
   "outputs": [
    {
     "name": "stdout",
     "output_type": "stream",
     "text": [
      "Model loaded\n",
      "Test Accuracy = 0.97522\n",
      "prediction: Keep right\n",
      "prediction: Speed limit (60km/h)\n",
      "prediction: Speed limit (70km/h)\n",
      "prediction: Yield\n",
      "prediction: No passing\n"
     ]
    },
    {
     "data": {
      "image/png": "[encoded data removed]",
      "text/plain": [
       "<matplotlib.figure.Figure at 0x7ff1dc5114e0>"
      ]
     },
     "metadata": {},
     "output_type": "display_data"
    },
    {
     "data": {
      "image/png": "[encoded data removed]",
      "text/plain": [
       "<matplotlib.figure.Figure at 0x7ff20c04e630>"
      ]
     },
     "metadata": {},
     "output_type": "display_data"
    },
    {
     "data": {
      "image/png": "[encoded data removed]",
      "text/plain": [
       "<matplotlib.figure.Figure at 0x7ff20c15e3c8>"
      ]
     },
     "metadata": {},
     "output_type": "display_data"
    },
    {
     "data": {
      "image/png": "[encoded data removed]",
      "text/plain": [
       "<matplotlib.figure.Figure at 0x7ff1dc5c7a58>"
      ]
     },
     "metadata": {},
     "output_type": "display_data"
    },
    {
     "data": {
      "image/png": "[encoded data removed]",
      "text/plain": [
       "<matplotlib.figure.Figure at 0x7ff214031208>"
      ]
     },
     "metadata": {},
     "output_type": "display_data"
    }
   ],
   "source": [
    "chosen_image_index = np.random.choice(X_test.shape[0], size=5)\n",
    "\n",
    "with tf.Session() as sess:\n",
    "\n",
    "    saver.restore(sess, cwd+'/logs/CNN/lenet.ckpt')\n",
    "    print(\"Model loaded\")\n",
    "    \n",
    "    test_accuracy = evaluate(X_test_processed, y_test)\n",
    "    print(\"Test Accuracy = {:.5f}\".format(test_accuracy))\n",
    "\n",
    "    test_img_pred = sess.run(prediction, feed_dict={x:X_test_processed[chosen_image_index], keep_prob:kb})\n",
    "    \n",
    "i = 0\n",
    "for img in X_test[chosen_image_index]:\n",
    "    \n",
    "    print('prediction: ' + signnames[test_img_pred[i]])\n",
    "    \n",
    "    plt.figure(figsize=(1,1))\n",
    "    plt.imshow(img)\n",
    "    i=i+1"
   ]
  },
  {
   "cell_type": "markdown",
   "metadata": {},
   "source": [
    "### Question 7\n",
    "\n",
    "_Is your model able to perform equally well on captured pictures when compared to testing on the dataset? The simplest way to do this check the accuracy of the predictions. For example, if the model predicted 1 out of 5 signs correctly, it's 20% accurate._\n",
    "\n",
    "_**NOTE:** You could check the accuracy manually by using `signnames.csv` (same directory). This file has a mapping from the class id (0-42) to the corresponding sign name. So, you could take the class id the model outputs, lookup the name in `signnames.csv` and see if it matches the sign from the image._\n"
   ]
  },
  {
   "cell_type": "markdown",
   "metadata": {},
   "source": [
    "**Answer:**\n",
    "*unfortunately, the prediction went not really well for some of the signs, not only the challenging ones I've built in. For the selection it achieved an accuracy of only 60%, on testing set, it was over 97%. Despite the challenging images, which are not expected to be recognized by the model, it still seems to overfit the testing set. The different font or graphics of the signs also caused recognition-fails. *"
   ]
  },
  {
   "cell_type": "code",
   "execution_count": 15,
   "metadata": {
    "collapsed": false
   },
   "outputs": [
    {
     "name": "stdout",
     "output_type": "stream",
     "text": [
      "Model loaded\n",
      "Test Accuracy = 0.97530\n"
     ]
    }
   ],
   "source": [
    "### Visualize the softmax probabilities here.\n",
    "### Feel free to use as many code cells as needed.\n",
    "def softmax(logits):\n",
    "    return tf.nn.softmax(logits)\n",
    "\n",
    "prediction_softmax = softmax(logits)\n",
    "\n",
    "with tf.Session() as sess:\n",
    "    \n",
    "    saver.restore(sess, cwd+'/logs/CNN/lenet.ckpt')\n",
    "    print(\"Model loaded\")\n",
    "    \n",
    "    test_accuracy = evaluate(X_test_processed, y_test)\n",
    "    print(\"Test Accuracy = {:.5f}\".format(test_accuracy))\n",
    "    \n",
    "    pred_soft = sess.run(tf.nn.top_k(prediction_softmax, k=5), feed_dict={x:image_processed, keep_prob:kb})\n",
    "\n"
   ]
  },
  {
   "cell_type": "code",
   "execution_count": 52,
   "metadata": {
    "collapsed": false,
    "scrolled": false
   },
   "outputs": [
    {
     "data": {
      "image/png": "[encoded data removed]",
      "text/plain": [
       "<matplotlib.figure.Figure at 0x7ff20c5dca20>"
      ]
     },
     "metadata": {},
     "output_type": "display_data"
    },
    {
     "data": {
      "image/png": "[encoded data removed]",
      "text/plain": [
       "<matplotlib.figure.Figure at 0x7ff1dc6024a8>"
      ]
     },
     "metadata": {},
     "output_type": "display_data"
    },
    {
     "data": {
      "image/png": "[encoded data removed]",
      "text/plain": [
       "<matplotlib.figure.Figure at 0x7ff1dc06bd30>"
      ]
     },
     "metadata": {},
     "output_type": "display_data"
    },
    {
     "data": {
      "image/png": "[encoded data removed]",
      "text/plain": [
       "<matplotlib.figure.Figure at 0x7ff1dc061588>"
      ]
     },
     "metadata": {},
     "output_type": "display_data"
    },
    {
     "data": {
      "image/png": "[encoded data removed]",
      "text/plain": [
       "<matplotlib.figure.Figure at 0x7ff1cef83160>"
      ]
     },
     "metadata": {},
     "output_type": "display_data"
    },
    {
     "data": {
      "image/png": "[encoded data removed]",
      "text/plain": [
       "<matplotlib.figure.Figure at 0x7ff1ceb79048>"
      ]
     },
     "metadata": {},
     "output_type": "display_data"
    },
    {
     "data": {
      "image/png": "[encoded data removed]",
      "text/plain": [
       "<matplotlib.figure.Figure at 0x7ff1cecdfdd8>"
      ]
     },
     "metadata": {},
     "output_type": "display_data"
    },
    {
     "data": {
      "image/png": "[encoded data removed]",
      "text/plain": [
       "<matplotlib.figure.Figure at 0x7ff1dc40e5f8>"
      ]
     },
     "metadata": {},
     "output_type": "display_data"
    },
    {
     "data": {
      "image/png": "[encoded data removed]",
      "text/plain": [
       "<matplotlib.figure.Figure at 0x7ff1cee5c780>"
      ]
     },
     "metadata": {},
     "output_type": "display_data"
    },
    {
     "data": {
      "image/png": "[encoded data removed]",
      "text/plain": [
       "<matplotlib.figure.Figure at 0x7ff1cee5e978>"
      ]
     },
     "metadata": {},
     "output_type": "display_data"
    }
   ],
   "source": [
    "i = 0\n",
    "for image_file in all_image_files:\n",
    "    \n",
    "    img = imread(cwd + folder_testimages + '/' + image_file)\n",
    "    \n",
    "    #print(image_file)\n",
    "    #for j in range(pred_soft.indices[i].shape[0]):\n",
    "        #print(signnames[pred_soft.indices[i][j]] + \": {:.2f}\".format(pred_soft.values[i][j]*100) +'%')\n",
    "    fig, ax = plt.subplots(figsize=(8, 5))\n",
    "    ax.bar(np.arange(5), pred_soft.values[i]*100, 0.35, color='b')\n",
    "    ax.set_xticks(np.arange(5) )\n",
    "    ax.set_xticklabels([signnames[j] for j in pred_soft.indices[i]], rotation='vertical')\n",
    "    \n",
    "    plt.figure(figsize=(1,1))\n",
    "    plt.imshow(img)\n",
    "    \n",
    "    \n",
    "    i=i+1"
   ]
  },
  {
   "cell_type": "markdown",
   "metadata": {},
   "source": [
    "### Question 8\n",
    "\n",
    "*Use the model's softmax probabilities to visualize the **certainty** of its predictions, [`tf.nn.top_k`](https://www.tensorflow.org/versions/r0.12/api_docs/python/nn.html#top_k) could prove helpful here. Which predictions is the model certain of? Uncertain? If the model was incorrect in its initial prediction, does the correct prediction appear in the top k? (k should be 5 at most)*\n",
    "\n",
    "`tf.nn.top_k` will return the values and indices (class ids) of the top k predictions. So if k=3, for each sign, it'll return the 3 largest probabilities (out of a possible 43) and the correspoding class ids.\n",
    "\n",
    "Take this numpy array as an example:\n",
    "\n",
    "```\n",
    "# (5, 6) array\n",
    "a = np.array([[ 0.24879643,  0.07032244,  0.12641572,  0.34763842,  0.07893497,\n",
    "         0.12789202],\n",
    "       [ 0.28086119,  0.27569815,  0.08594638,  0.0178669 ,  0.18063401,\n",
    "         0.15899337],\n",
    "       [ 0.26076848,  0.23664738,  0.08020603,  0.07001922,  0.1134371 ,\n",
    "         0.23892179],\n",
    "       [ 0.11943333,  0.29198961,  0.02605103,  0.26234032,  0.1351348 ,\n",
    "         0.16505091],\n",
    "       [ 0.09561176,  0.34396535,  0.0643941 ,  0.16240774,  0.24206137,\n",
    "         0.09155967]])\n",
    "```\n",
    "\n",
    "Running it through `sess.run(tf.nn.top_k(tf.constant(a), k=3))` produces:\n",
    "\n",
    "```\n",
    "TopKV2(values=array([[ 0.34763842,  0.24879643,  0.12789202],\n",
    "       [ 0.28086119,  0.27569815,  0.18063401],\n",
    "       [ 0.26076848,  0.23892179,  0.23664738],\n",
    "       [ 0.29198961,  0.26234032,  0.16505091],\n",
    "       [ 0.34396535,  0.24206137,  0.16240774]]), indices=array([[3, 0, 5],\n",
    "       [0, 1, 4],\n",
    "       [0, 5, 1],\n",
    "       [1, 3, 5],\n",
    "       [1, 4, 3]], dtype=int32))\n",
    "```\n",
    "\n",
    "Looking just at the first row we get `[ 0.34763842,  0.24879643,  0.12789202]`, you can confirm these are the 3 largest probabilities in `a`. You'll also notice `[3, 0, 5]` are the corresponding indices."
   ]
  },
  {
   "cell_type": "markdown",
   "metadata": {},
   "source": [
    "**Answer:**\n",
    "*It seems that the CNN doesn't rocognized double curve sign and take that for Right-of-way at the next intersection instead which looks similiar in the preprocessed image. For the challenging speed limit (60 km/h) sign covered by snow, Speed limit (80km/h) was under the top guesses. Fortunately it was able to recognize the roundabout mandatory sign, which is also covered by snow. *"
   ]
  },
  {
   "cell_type": "markdown",
   "metadata": {},
   "source": [
    "> **Note**: Once you have completed all of the code implementations and successfully answered each question above, you may finalize your work by exporting the iPython Notebook as an HTML document. You can do this by using the menu above and navigating to  \\n\",\n",
    "    \"**File -> Download as -> HTML (.html)**. Include the finished document along with this notebook as your submission."
   ]
  }
 ],
 "metadata": {
  "anaconda-cloud": {},
  "kernelspec": {
   "display_name": "Python [default]",
   "language": "python",
   "name": "python3"
  },
  "language_info": {
   "codemirror_mode": {
    "name": "ipython",
    "version": 3
   },
   "file_extension": ".py",
   "mimetype": "text/x-python",
   "name": "python",
   "nbconvert_exporter": "python",
   "pygments_lexer": "ipython3",
   "version": "3.5.2"
  }
 },
 "nbformat": 4,
 "nbformat_minor": 1
}
